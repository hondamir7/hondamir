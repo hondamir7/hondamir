{
 "cells": [
  {
   "cell_type": "markdown",
   "metadata": {},
   "source": [
    "# Conditions"
   ]
  },
  {
   "cell_type": "code",
   "execution_count": 5,
   "metadata": {},
   "outputs": [
    {
     "name": "stdout",
     "output_type": "stream",
     "text": [
      "Kirish mumkin\n"
     ]
    }
   ],
   "source": [
    "# if === kalit so'zi\n",
    "# condition===parol===123\n",
    "#Print\n",
    "\n",
    "\n",
    "\n",
    "\n",
    "parol=1234\n",
    "if parol==1234:\n",
    "    print('Kirish mumkin')"
   ]
  },
  {
   "cell_type": "code",
   "execution_count": null,
   "metadata": {},
   "outputs": [],
   "source": []
  },
  {
   "cell_type": "code",
   "execution_count": 7,
   "metadata": {},
   "outputs": [],
   "source": [
    "parol1=int(input('Parolni kiriting'))\n",
    "if parol1==1234:\n",
    "    print('Kirish mumkin')"
   ]
  },
  {
   "cell_type": "code",
   "execution_count": 9,
   "metadata": {},
   "outputs": [
    {
     "name": "stdout",
     "output_type": "stream",
     "text": [
      "Parolda xatolik bor\n"
     ]
    }
   ],
   "source": [
    "parol1=int(input('Parolni kiriting'))\n",
    "if parol1==1234:\n",
    "    print('Kirish mumkin')\n",
    "else:\n",
    "    print('Parolda xatolik bor')"
   ]
  },
  {
   "cell_type": "code",
   "execution_count": 4,
   "metadata": {},
   "outputs": [
    {
     "name": "stdout",
     "output_type": "stream",
     "text": [
      "Parolda xatolik bor\n"
     ]
    }
   ],
   "source": [
    "parol1=int(input('Parolni kiriting'))\n",
    "if parol1==1234:\n",
    "    print('Kirish mumkin')\n",
    "elif parol1==1235:\n",
    "    print('Yaqin keldiz')\n",
    "else:\n",
    "    print('Parolda xatolik bor')"
   ]
  },
  {
   "cell_type": "code",
   "execution_count": null,
   "metadata": {},
   "outputs": [],
   "source": [
    "#Logic Operations\n",
    "# And\n",
    "#Or \n",
    "#Not"
   ]
  },
  {
   "cell_type": "code",
   "execution_count": 13,
   "metadata": {},
   "outputs": [
    {
     "data": {
      "text/plain": [
       "1"
      ]
     },
     "execution_count": 13,
     "metadata": {},
     "output_type": "execute_result"
    }
   ],
   "source": [
    "9%2\n"
   ]
  },
  {
   "cell_type": "code",
   "execution_count": 16,
   "metadata": {},
   "outputs": [
    {
     "name": "stdout",
     "output_type": "stream",
     "text": [
      "Xato\n"
     ]
    }
   ],
   "source": [
    "#Agar son xam musbat xam 2 ga bo'linsa yaxshi degan ypzuv chiqsin aks xolda xato degan yozuv\n",
    "x=int(input('Sonni kiriting'))\n",
    "if x>0 and x%2==0:\n",
    "    print('Yaxshi')\n",
    "else:\n",
    "    print('Xato')"
   ]
  },
  {
   "cell_type": "code",
   "execution_count": 19,
   "metadata": {},
   "outputs": [
    {
     "name": "stdout",
     "output_type": "stream",
     "text": [
      "Yaxshi\n"
     ]
    }
   ],
   "source": [
    "#Agar son musbat yoki  2 ga bo'linsa yaxshi degan yozuv chiqsin aks xolda xato degan yozuv ekranga chiqsin\n",
    "x=int(input('Sonni kiriting'))\n",
    "if x>0 or x%2==0:\n",
    "    print('Yaxshi')\n",
    "else:\n",
    "    print('Xato')"
   ]
  },
  {
   "cell_type": "code",
   "execution_count": 24,
   "metadata": {},
   "outputs": [
    {
     "name": "stdout",
     "output_type": "stream",
     "text": [
      "Siz ovoz bera olmaysiz\n"
     ]
    }
   ],
   "source": [
    "age=16\n",
    "saylov_yoshi=age>=18\n",
    "if not saylov_yoshi:\n",
    "    print('Siz ovoz bera olmaysiz')\n",
    "else:\n",
    "    print('Siz ovoz bera olasiz ')"
   ]
  },
  {
   "cell_type": "code",
   "execution_count": 30,
   "metadata": {},
   "outputs": [
    {
     "name": "stdout",
     "output_type": "stream",
     "text": [
      "9\n"
     ]
    }
   ],
   "source": [
    "#/,//,%%\n",
    "# print(12//5)\n",
    "print(99//10)"
   ]
  },
  {
   "cell_type": "code",
   "execution_count": 33,
   "metadata": {},
   "outputs": [
    {
     "name": "stdout",
     "output_type": "stream",
     "text": [
      "Xato\n"
     ]
    }
   ],
   "source": [
    "# Agar son 2 xonali bo'lsa ekranga 2 xonali son degan yozuv aks xolda xato raqam kiritdiz degan yozuv chiqsin\n",
    "\n",
    "# 10,34,....99\n",
    "\n",
    "x=int(input('Sonni kiriting:'))\n",
    "if 1<=x//10<=9:\n",
    "    print('Berilgan son ikki xonali son')\n",
    "else:\n",
    "    print('Xato')"
   ]
  },
  {
   "cell_type": "markdown",
   "metadata": {},
   "source": [
    "# Vazifa\n"
   ]
  },
  {
   "cell_type": "markdown",
   "metadata": {},
   "source": [
    "# Parol yasang va u to'g'ri bo'lsa mumkin aks xolda xato!Qayta urunib ko'ring degan yozuvni ekranga chiqaring\n",
    "# O'quvchini olgan baxolariga ko'ra tarif bering(5:Alo, 4:Yaxshi, 3: O'rta, 2: Yomon)\n",
    "# Agar son xam 2 ga xam 3 ga bo'linishini ko'rsating(BOoleandan foydalaning)\n",
    "# Agar son xam 2 ga xam 3 ga bo'linsa ekranga 6 ga karrali son deb chiqaring aks  xolda xatolik bor deb ekranga chiqaring "
   ]
  },
  {
   "cell_type": "code",
   "execution_count": null,
   "metadata": {},
   "outputs": [
    {
     "name": "stdout",
     "output_type": "stream",
     "text": [
      "Tasdiqlandi\n"
     ]
    }
   ],
   "source": [
    "#Mahfiy kod yarating! Kod to'g'ri bo'lsa, \"Tasdiqlandi', va noto'g'ri bo'lsa, \"Xato kiritildi' degan yozuv chiqsin.\n",
    "\n",
    "seccode=int(input('Mahfiy kodni kiriting'))\n",
    "if seccode==1234:\n",
    "    print('Tasdiqlandi')\n",
    "else:\n",
    "    print('Xato kiritldi')"
   ]
  },
  {
   "cell_type": "code",
   "execution_count": 15,
   "metadata": {},
   "outputs": [
    {
     "name": "stdout",
     "output_type": "stream",
     "text": [
      "Xato. Bahoni qaytadan kiriting!\n"
     ]
    }
   ],
   "source": [
    "#O'quvchini 2-5gacha bo'lgan baholar orqali ta'riflash\n",
    "\n",
    "grade=int(input('Bahoni kiriting'))\n",
    "if grade==5:\n",
    "    print('Alo')\n",
    "elif grade==4:\n",
    "    print('Yaxshi')\n",
    "elif grade==3:\n",
    "    print('Orta')\n",
    "elif grade==2:\n",
    "    print('Yomon')\n",
    "else:\n",
    "    print('Xato. Bahoni qaytadan kiriting!')"
   ]
  },
  {
   "cell_type": "code",
   "execution_count": 46,
   "metadata": {},
   "outputs": [
    {
     "name": "stdout",
     "output_type": "stream",
     "text": [
      "Berilgan son 2ga ham, 3ga ham bolinmaydi\n"
     ]
    }
   ],
   "source": [
    "x=int(input('Sonni kiriting'))\n",
    "\n",
    "ikkiga_karrali=(x%2==0)\n",
    "uchga_karrali=(x%3==0)\n",
    "\n",
    "if ikkiga_karrali and uchga_karrali:\n",
    "    print('Berilgan son 2 va 3ga bolinadi')\n",
    "elif ikkiga_karrali:\n",
    "    print('Berilgan son 2ga bolinadi, lekin 3ga bolinmaydi')\n",
    "elif uchga_karrali:\n",
    "    print('Berilgan son 3ga bolinadi, lekin 2ga bolinmaydi')\n",
    "else:\n",
    "    print('Berilgan son 2ga ham, 3ga ham bolinmaydi')\n"
   ]
  }
 ],
 "metadata": {
  "kernelspec": {
   "display_name": "Python 3",
   "language": "python",
   "name": "python3"
  },
  "language_info": {
   "codemirror_mode": {
    "name": "ipython",
    "version": 3
   },
   "file_extension": ".py",
   "mimetype": "text/x-python",
   "name": "python",
   "nbconvert_exporter": "python",
   "pygments_lexer": "ipython3",
   "version": "3.9.6"
  }
 },
 "nbformat": 4,
 "nbformat_minor": 2
}
