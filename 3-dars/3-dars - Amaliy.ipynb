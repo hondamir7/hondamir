{
 "cells": [
  {
   "cell_type": "code",
   "execution_count": null,
   "metadata": {},
   "outputs": [],
   "source": [
    "# if - kalit so'z\n",
    "# condition - 1233\n"
   ]
  },
  {
   "cell_type": "code",
   "execution_count": 1,
   "metadata": {},
   "outputs": [
    {
     "name": "stdout",
     "output_type": "stream",
     "text": [
      "kirish mumkin\n"
     ]
    }
   ],
   "source": [
    "parol=1234\n",
    "if parol==1234:\n",
    "    print('kirish mumkin')"
   ]
  },
  {
   "cell_type": "code",
   "execution_count": null,
   "metadata": {},
   "outputs": [],
   "source": [
    "parol=int(input('parolni kiriting'))\n",
    "if parol==1234:\n",
    "    print('kirish mumkin')"
   ]
  },
  {
   "cell_type": "code",
   "execution_count": 6,
   "metadata": {},
   "outputs": [
    {
     "name": "stdout",
     "output_type": "stream",
     "text": [
      "parolda xatolik\n"
     ]
    }
   ],
   "source": [
    "parol=int(input('parolni kiriting'))\n",
    "if parol==1234:\n",
    "    print('kirish mumkin')\n",
    "else:\n",
    "    print('parolda xatolik')"
   ]
  },
  {
   "cell_type": "code",
   "execution_count": 4,
   "metadata": {},
   "outputs": [
    {
     "name": "stdout",
     "output_type": "stream",
     "text": [
      "Xato! Parolni boshqtdan kiriting\n"
     ]
    }
   ],
   "source": [
    "parol=int(input(\"Parolni kiriting:\"))\n",
    "\n",
    "if parol==1234:\n",
    "    print(\"Muvaffaqiyatli o'tdingiz\")\n",
    "elif parol==1235 or parol==1233:\n",
    "    print(\"Yaqin keldingiz\")\n",
    "else:\n",
    "    print(\"Xato! Parolni boshqtdan kiriting\")"
   ]
  },
  {
   "cell_type": "code",
   "execution_count": null,
   "metadata": {},
   "outputs": [],
   "source": [
    "#logic operations\n",
    "\n",
    "#and\n",
    "#or\n",
    "#not"
   ]
  },
  {
   "cell_type": "code",
   "execution_count": 11,
   "metadata": {},
   "outputs": [
    {
     "name": "stdout",
     "output_type": "stream",
     "text": [
      "xato\n"
     ]
    }
   ],
   "source": [
    "#Agar son ham musbat, ham 2ga bolinsa yaxshi, aks holda xato degan yozuv chiqsin\n",
    "\n",
    "x=int(input('Sonni kiriting'))\n",
    "if x>0 and x%2==0:\n",
    "    print('yaxshi')\n",
    "else:\n",
    "    print('xato')"
   ]
  },
  {
   "cell_type": "code",
   "execution_count": 14,
   "metadata": {},
   "outputs": [
    {
     "name": "stdout",
     "output_type": "stream",
     "text": [
      "yaxshi\n"
     ]
    }
   ],
   "source": [
    "#Agar son ham musbat yoki 2ga bolinsa yaxshi, aks holda xato degan yozuv chiqsin\n",
    "\n",
    "x=int(input('Sonni kiriting'))\n",
    "if x>0 or x%2==0:\n",
    "    print('yaxshi')\n",
    "else:\n",
    "    print('xato')"
   ]
  },
  {
   "cell_type": "code",
   "execution_count": null,
   "metadata": {},
   "outputs": [
    {
     "name": "stdout",
     "output_type": "stream",
     "text": [
      "Siz ovoz bera olasiz\n"
     ]
    }
   ],
   "source": [
    "age=int(input(\"Saylov yoshini kiriting\"))\n",
    "saylov_yoshi=age>=18\n",
    "\n",
    "if not saylov_yoshi:\n",
    "    print(\"Siz ovoz bera olmaysiz\")\n",
    "else:\n",
    "    print(\"Siz ovoz bera olasiz\")"
   ]
  },
  {
   "cell_type": "code",
   "execution_count": 19,
   "metadata": {},
   "outputs": [
    {
     "name": "stdout",
     "output_type": "stream",
     "text": [
      "ikki xonali\n"
     ]
    }
   ],
   "source": [
    "#agar son 2 xonali bolsa ikki xonali degan yozuv, aks holda xato degan yozuv chiqsim\n",
    "\n",
    "x=int(input('sonni kiriting'))\n",
    "if 1<=x//10<=9:\n",
    "    print('ikki xonali')\n",
    "else:\n",
    "    print('xato')"
   ]
  },
  {
   "cell_type": "markdown",
   "metadata": {},
   "source": [
    "# Vazifa\n"
   ]
  },
  {
   "cell_type": "code",
   "execution_count": null,
   "metadata": {},
   "outputs": [],
   "source": [
    "# Parol yasang va u to'g'ri bo'lsa mumkin aks xolda xato!Qayta urunib ko'ring degan yozuvni ekranga chiqaring\n",
    "# O'quvchini olgan baxolariga ko'ra tarif bering(5:Alo, 4:Yaxshi, 3: O'rta, 2: Yomon)\n",
    "# Agar son xam 2 ga xam 3 ga bo'linishini ko'rsating(BOoleandan foydalaning)\n",
    "# Agar son xam 2 ga xam 3 ga bo'linsa ekranga 6 ga karrali son deb chiqaring aks  xolda xatolik bor deb ekranga chiqaring "
   ]
  },
  {
   "cell_type": "code",
   "execution_count": 30,
   "metadata": {},
   "outputs": [
    {
     "name": "stdout",
     "output_type": "stream",
     "text": [
      "Parol tasdiqlandi\n"
     ]
    }
   ],
   "source": [
    "#Mahfiy kod yarating! Kod to'g'ri bo'lsa, \"Tasdiqlandi', va noto'g'ri bo'lsa, \"Xato kiritildi' degan yozuv chiqsin.\n",
    "\n",
    "password = input('Parolni kiriting!')\n",
    "\n",
    "if password == '0707':\n",
    "    print('Parol tasdiqlandi')\n",
    "else:\n",
    "    print('Xato! Qayta urinib koring!')"
   ]
  },
  {
   "cell_type": "code",
   "execution_count": 17,
   "metadata": {},
   "outputs": [
    {
     "name": "stdout",
     "output_type": "stream",
     "text": [
      "Xato. Parolni qayta kiriting\n"
     ]
    }
   ],
   "source": [
    "password=int(input(\"Parolni kiriting:\"))\n",
    "\n",
    "if password==1000:\n",
    "    print(\"Parol tasdiqlandi\")\n",
    "else:\n",
    "    print(\"Xato. Parolni qayta kiriting\")"
   ]
  },
  {
   "cell_type": "code",
   "execution_count": 29,
   "metadata": {},
   "outputs": [
    {
     "name": "stdout",
     "output_type": "stream",
     "text": [
      "Xato! Bahoni qayta kiriting!\n"
     ]
    }
   ],
   "source": [
    "# O'quvchini 2-5gacha bo'lgan baholar orqali ta'riflash\n",
    "\n",
    "grade = int(input('Oquvchini bahosini kiriting'))\n",
    "\n",
    "if grade==5:\n",
    "    print('Alo')\n",
    "elif grade==4:\n",
    "    print('Yaxshi')\n",
    "elif grade==3:\n",
    "    print('Orta')\n",
    "elif grade==2:\n",
    "    print('Yomon')\n",
    "else:\n",
    "    print('Xato! Bahoni qayta kiriting!')"
   ]
  },
  {
   "cell_type": "code",
   "execution_count": 51,
   "metadata": {},
   "outputs": [
    {
     "name": "stdout",
     "output_type": "stream",
     "text": [
      "Berilgan 5 soni 2ga ham, 3ga ham bolinmaydi\n"
     ]
    }
   ],
   "source": [
    "## Sonni 2 va 3 ga karrali ekanini ko'rsating (Booleandan foydalaning!)\n",
    "\n",
    "x=int(input('Sonni kiriting'))\n",
    "ikkiga_karrali=(x%2==0)\n",
    "uchga_karrali=(x%3==0)\n",
    "\n",
    "if ikkiga_karrali and uchga_karrali:\n",
    "    print(f'Berilgan {x} soni 2ga va 3ga bolinadi')\n",
    "elif ikkiga_karrali:\n",
    "    print(f'Berilgan {x} soni 2ga bolinadi, lekin 3ga bolinmaydi')\n",
    "elif uchga_karrali:\n",
    "    print(f'Berilgan {x} soni 3ga bolinadi, lekin 2ga bolinmaydi')\n",
    "else:\n",
    "    print(f'Berilgan {x} soni 2ga ham, 3ga ham bolinmaydi')"
   ]
  },
  {
   "cell_type": "code",
   "execution_count": 27,
   "metadata": {},
   "outputs": [
    {
     "name": "stdout",
     "output_type": "stream",
     "text": [
      "Berilgan 7 soni 2ga ham 3ga ham bo'linmaydi\n"
     ]
    }
   ],
   "source": [
    "## Sonni 2 va 3 ga karrali ekanini ko'rsating (Booleandan foydalaning!)\n",
    "\n",
    "x=int(input(\"Sonni kiriting:\"))\n",
    "ikkiga_karrali=(x%2==0)\n",
    "uchga_karrali=(x%3==0)\n",
    "\n",
    "if ikkiga_karrali and uchga_karrali:\n",
    "    print(f\"Berilgan {x} soni 2ga ham 3ga ham bo'linadi\")\n",
    "elif ikkiga_karrali:\n",
    "    print(f\"Berilgan {x} soni 2ga bo'linadi, lekin 3ga bo'linmaydi\")\n",
    "elif uchga_karrali:\n",
    "    print(f\"Berilgan {x} soni 3ga bo'linadi, lekin 2ga bo'linmaydi\")\n",
    "else:\n",
    "    print(f\"Berilgan {x} soni 2ga ham 3ga ham bo'linmaydi\")\n"
   ]
  }
 ],
 "metadata": {
  "kernelspec": {
   "display_name": "Python 3",
   "language": "python",
   "name": "python3"
  },
  "language_info": {
   "codemirror_mode": {
    "name": "ipython",
    "version": 3
   },
   "file_extension": ".py",
   "mimetype": "text/x-python",
   "name": "python",
   "nbconvert_exporter": "python",
   "pygments_lexer": "ipython3",
   "version": "3.9.6"
  }
 },
 "nbformat": 4,
 "nbformat_minor": 2
}
