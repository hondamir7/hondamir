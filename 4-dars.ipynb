{
 "cells": [
  {
   "cell_type": "markdown",
   "metadata": {},
   "source": [
    "#4-dars. Uyga vazifa"
   ]
  },
  {
   "cell_type": "code",
   "execution_count": 5,
   "metadata": {},
   "outputs": [
    {
     "name": "stdout",
     "output_type": "stream",
     "text": [
      "ikki sonning yigindisi:, a+b\n",
      "ikki sonning ayirmasi:, a-b\n",
      "ikki sonning kopaytmasi:, a*b\n",
      "ikki sonning bolinmasi:, a/b\n"
     ]
    }
   ],
   "source": [
    "#Arifmetik Amallar\n",
    "\n",
    "a=10\n",
    "b=5\n",
    "\n",
    "print('ikki sonning yigindisi:, a+b')\n",
    "print('ikki sonning ayirmasi:, a-b')\n",
    "print('ikki sonning kopaytmasi:, a*b')\n",
    "print('ikki sonning bolinmasi:, a/b')"
   ]
  },
  {
   "cell_type": "code",
   "execution_count": 1,
   "metadata": {},
   "outputs": [
    {
     "name": "stdout",
     "output_type": "stream",
     "text": [
      "Пример 1: Условие AND: True\n",
      "Пример 2: Условие OR: True\n"
     ]
    }
   ],
   "source": [
    "#Mantiqiy amallar\n",
    "# Пример 1: Проверка двух условий с использованием AND\n",
    "a = 15\n",
    "b = 8\n",
    "is_a_greater_than_10 = a > 10  # True\n",
    "is_b_less_than_10 = b < 10     # True\n",
    "both_conditions = is_a_greater_than_10 and is_b_less_than_10  # True AND True = True\n",
    "\n",
    "# Пример 2: Проверка хотя бы одного условия с использованием OR\n",
    "x = 5\n",
    "y = 20\n",
    "is_x_even = (x % 2 == 0)  # False\n",
    "is_y_greater_than_15 = y > 15  # True\n",
    "either_condition = is_x_even or is_y_greater_than_15  # False OR True = True\n",
    "\n",
    "# Вывод результатов\n",
    "print(\"Пример 1: Условие AND:\", both_conditions)  # True\n",
    "print(\"Пример 2: Условие OR:\", either_condition)  # True"
   ]
  },
  {
   "cell_type": "code",
   "execution_count": 8,
   "metadata": {},
   "outputs": [
    {
     "name": "stdout",
     "output_type": "stream",
     "text": [
      "1-misol: AND: False\n",
      "2-misol: OR: True\n"
     ]
    }
   ],
   "source": [
    "#Mantiqiy amallar\n",
    "# 1-misol: AND\n",
    "a = 15 and a > 10\n",
    "b = 8 and b < 10\n",
    "\n",
    "# 2-misol: OR\n",
    "x = 5 or x % 2 == 0\n",
    "y = 20 or y > 15\n",
    "\n",
    "# Natija\n",
    "print(\"1-misol: AND:\", a > 10 and b < 10)  # True\n",
    "print(\"2-misol: OR:\", x % 2 == 0 or y > 15)  # True"
   ]
  },
  {
   "cell_type": "code",
   "execution_count": 13,
   "metadata": {},
   "outputs": [
    {
     "name": "stdout",
     "output_type": "stream",
     "text": [
      "1-misol: a katta b dan: False\n",
      "2-misol: x teng y: True\n"
     ]
    }
   ],
   "source": [
    "# Solishtirish amallari\n",
    "\n",
    "# 1-misol: Bir raqam boshqasidan kattaligini tekshirish\n",
    "a = 10\n",
    "b = 15\n",
    "a > b\n",
    "print(\"1-misol: a katta b dan:\", a > b)\n",
    "\n",
    "# 2-misol: Tenglikni tekshirish\n",
    "x = 20\n",
    "y = 20\n",
    "x == y\n",
    "print(\"2-misol: x teng y:\",x == y)  # True\n"
   ]
  },
  {
   "cell_type": "code",
   "execution_count": 16,
   "metadata": {},
   "outputs": [
    {
     "name": "stdout",
     "output_type": "stream",
     "text": [
      "1-misol:  a ning yangi qiymati: 15\n",
      "2-misol: b ning yangi qiymati: 12\n"
     ]
    }
   ],
   "source": [
    "# O’zgaruvchi qiymatlash amallari\n",
    "\n",
    "# 1-misol: +=\n",
    "a = 10\n",
    "a += 5\n",
    "print(\"1-misol:  a ning yangi qiymati:\", a)\n",
    "\n",
    "# 2-misol: *=\n",
    "b = 4\n",
    "b *= 3\n",
    "print(\"2-misol: b ning yangi qiymati:\", b)"
   ]
  },
  {
   "cell_type": "markdown",
   "metadata": {},
   "source": []
  },
  {
   "cell_type": "code",
   "execution_count": 28,
   "metadata": {},
   "outputs": [
    {
     "name": "stdout",
     "output_type": "stream",
     "text": [
      "Son musbat.\n"
     ]
    }
   ],
   "source": [
    "# Raqamning musbat yoki manfiy yoki nolga teng ekanligini aniqlash\n",
    "\n",
    "a=int(input('Sonni kiriting')) #a\n",
    "\n",
    "# Проверка условия\n",
    "if a > 0:\n",
    "    print(\"Son musbat.\")\n",
    "elif a < 0:\n",
    "    print(\"Son manfiy.\")\n",
    "else:\n",
    "    print(\"Nol.\")"
   ]
  },
  {
   "cell_type": "code",
   "execution_count": 27,
   "metadata": {},
   "outputs": [
    {
     "name": "stdout",
     "output_type": "stream",
     "text": [
      "a soni (35) b sondan (9) katta.\n"
     ]
    }
   ],
   "source": [
    "# bir son boshqa sondan katta yoki kichikligini aniqlash\n",
    "\n",
    "a = int(input('birinchi sonni kiriting'))\n",
    "b = int(input('ikkinchi sonni kiriting'))\n",
    "\n",
    "if a > b:\n",
    "    print(f\"a soni ({a}) b sondan ({b}) katta.\")\n",
    "elif a < b:\n",
    "    print(f\"a soni ({a}) b sondan ({b}) kichik.\")\n",
    "else:\n",
    "    print(f\"a soni ({a}) va b soni ({b}) teng.\")"
   ]
  },
  {
   "cell_type": "code",
   "execution_count": 35,
   "metadata": {},
   "outputs": [
    {
     "name": "stdout",
     "output_type": "stream",
     "text": [
      "Ikki sonning o'rta arifmetigi: 4.5\n"
     ]
    }
   ],
   "source": [
    "# Вычисление среднего арифметического двух чисел\n",
    "\n",
    "# Заданные числа\n",
    "a = int(input('Birinchi sonni kiriting'))\n",
    "b = int(input('Ikkinchi sonni kiriting'))\n",
    "\n",
    "orta_arifmetik = (a + b) / 2\n",
    "\n",
    "# Вывод результата\n",
    "print(f\"Ikki sonning o'rta arifmetigi: {orta_arifmetik}\")"
   ]
  }
 ],
 "metadata": {
  "kernelspec": {
   "display_name": "Python 3",
   "language": "python",
   "name": "python3"
  },
  "language_info": {
   "codemirror_mode": {
    "name": "ipython",
    "version": 3
   },
   "file_extension": ".py",
   "mimetype": "text/x-python",
   "name": "python",
   "nbconvert_exporter": "python",
   "pygments_lexer": "ipython3",
   "version": "3.9.6"
  }
 },
 "nbformat": 4,
 "nbformat_minor": 2
}
