{
 "cells": [
  {
   "cell_type": "markdown",
   "metadata": {},
   "source": [
    "# Inner Conditionals (inner if)"
   ]
  },
  {
   "cell_type": "code",
   "execution_count": 14,
   "metadata": {},
   "outputs": [
    {
     "name": "stdout",
     "output_type": "stream",
     "text": [
      "nol\n"
     ]
    }
   ],
   "source": [
    "#Agar son musbat bo'sa, 1ga ortsin, manfiy bo'lsa 1ga kamaysin. Aks holda nol bo'lsin\n",
    "\n",
    "x=int(input('Sonni kiriting'))\n",
    "\n",
    "if x>0:\n",
    "    print(x+1)\n",
    "elif x<0:\n",
    "    print(x-1)\n",
    "else:\n",
    "    print('nol')"
   ]
  },
  {
   "cell_type": "code",
   "execution_count": 24,
   "metadata": {},
   "outputs": [
    {
     "name": "stdout",
     "output_type": "stream",
     "text": [
      "10ga bolinadi\n"
     ]
    }
   ],
   "source": [
    "a=int(input('Sonni kiriting'))\n",
    "if a>0 and a%10==0:\n",
    "    print('10ga bolinadi')\n",
    "elif a>0 and a%5==0:\n",
    "    print('5ga bolinadi')\n",
    "else:\n",
    "    print('qayta kiriting')\n"
   ]
  },
  {
   "cell_type": "code",
   "execution_count": 9,
   "metadata": {},
   "outputs": [
    {
     "name": "stdout",
     "output_type": "stream",
     "text": [
      "qayta kiriting\n"
     ]
    }
   ],
   "source": [
    "n=int(input('Sonni kiriting'))\n",
    "if n>0:\n",
    "    if n%10==0:\n",
    "        print('10ga bolinadi')\n",
    "    if n%5==0:\n",
    "        print('5ga bolinadi')\n",
    "    else:\n",
    "        print('qayta kiriting')\n",
    "else:\n",
    "    print('xatolik bor')"
   ]
  },
  {
   "cell_type": "code",
   "execution_count": 31,
   "metadata": {},
   "outputs": [
    {
     "name": "stdout",
     "output_type": "stream",
     "text": [
      "5ga bolinadi\n"
     ]
    }
   ],
   "source": [
    "b=int(input('sonni kiriting'))\n",
    "if n>0:\n",
    "    if b%10==0:\n",
    "        print('10ga bolinadi')\n",
    "    if b%5==0:\n",
    "        print('5ga bolinadi')\n",
    "    else: \n",
    "        print('qayta kiriting')\n",
    "else:\n",
    "    print('xato')"
   ]
  },
  {
   "cell_type": "code",
   "execution_count": 11,
   "metadata": {},
   "outputs": [
    {
     "name": "stdout",
     "output_type": "stream",
     "text": [
      "Defaulting to user installation because normal site-packages is not writeable\n",
      "Requirement already satisfied: pandas in /Users/hondamir/Library/Python/3.9/lib/python/site-packages (2.2.3)\n",
      "Requirement already satisfied: tzdata>=2022.7 in /Users/hondamir/Library/Python/3.9/lib/python/site-packages (from pandas) (2024.2)\n",
      "Requirement already satisfied: pytz>=2020.1 in /Users/hondamir/Library/Python/3.9/lib/python/site-packages (from pandas) (2024.2)\n",
      "Requirement already satisfied: numpy>=1.22.4 in /Users/hondamir/Library/Python/3.9/lib/python/site-packages (from pandas) (2.0.2)\n",
      "Requirement already satisfied: python-dateutil>=2.8.2 in /Users/hondamir/Library/Python/3.9/lib/python/site-packages (from pandas) (2.9.0.post0)\n",
      "Requirement already satisfied: six>=1.5 in /Library/Developer/CommandLineTools/Library/Frameworks/Python3.framework/Versions/3.9/lib/python3.9/site-packages (from python-dateutil>=2.8.2->pandas) (1.15.0)\n",
      "\u001b[33mWARNING: You are using pip version 21.2.4; however, version 24.3.1 is available.\n",
      "You should consider upgrading via the '/Library/Developer/CommandLineTools/usr/bin/python3 -m pip install --upgrade pip' command.\u001b[0m\n",
      "Note: you may need to restart the kernel to use updated packages.\n"
     ]
    }
   ],
   "source": [
    "%pip install pandas"
   ]
  },
  {
   "cell_type": "code",
   "execution_count": null,
   "metadata": {},
   "outputs": [],
   "source": []
  },
  {
   "cell_type": "markdown",
   "metadata": {},
   "source": []
  },
  {
   "cell_type": "code",
   "execution_count": null,
   "metadata": {},
   "outputs": [],
   "source": [
    "#Berilgan  musbat sonni oxirgi raqami 0 bilan tugasa '10 ga bo'linadigan son  5 bn tugasa  '5 ga bo'linadigan bo'lsa ' aks xolda 'qaytadan son kiriting deagn yozuvni ekranga chiqaring(2 ta usulda koring)\n",
    "#Agar berilgan  juft uzunllikka ega bo'lgan so'zning bosh xarfi 'a' yoki 'A' bo'sa bosh xarf agar z yoki Z bo'lsa oxirgi xarf aks xolda xatolik deb ekranga chiqaring\n"
   ]
  },
  {
   "cell_type": "code",
   "execution_count": null,
   "metadata": {},
   "outputs": [],
   "source": []
  },
  {
   "cell_type": "code",
   "execution_count": null,
   "metadata": {},
   "outputs": [
    {
     "name": "stdout",
     "output_type": "stream",
     "text": [
      "nol\n"
     ]
    }
   ],
   "source": [
    "#Agar son musbat bo'lsa 1 ga ortsin,manfiy bolsa 1 ga kamaysin aks ekranga nol chiqsin \n",
    "x=int(input('sonni kiriting'))\n",
    "if x>0:\n",
    "    print(x+1)\n",
    "elif x<0:\n",
    "    print(x-1)\n",
    "else:\n",
    "    print('nol')\n"
   ]
  },
  {
   "cell_type": "code",
   "execution_count": null,
   "metadata": {},
   "outputs": [
    {
     "name": "stdout",
     "output_type": "stream",
     "text": [
      "10 ga bolinadigan son\n"
     ]
    }
   ],
   "source": [
    "n=int(input('sonni kiriting'))\n",
    "if n>0 and n%10==0:\n",
    "    print('10 ga bolinadigan son') \n",
    "elif n>0 and n%5==0:\n",
    "    print('5 ga bolinadigan son') \n",
    "else:\n",
    "    print('Qaytadan kiriting')"
   ]
  },
  {
   "cell_type": "code",
   "execution_count": null,
   "metadata": {},
   "outputs": [
    {
     "name": "stdout",
     "output_type": "stream",
     "text": [
      "Xatolik bor\n"
     ]
    }
   ],
   "source": [
    "n=int(input('sonni kiriting'))\n",
    "if n>0:\n",
    "    if n%10==0:\n",
    "        print('10 ga bolinadigan son')\n",
    "    if n%5==0:\n",
    "        print('5 ga bolinadigan son')\n",
    "    else:\n",
    "        print('Qaytadan kiriting')\n",
    "else:\n",
    "    print('Xatolik bor')\n"
   ]
  },
  {
   "cell_type": "code",
   "execution_count": null,
   "metadata": {},
   "outputs": [],
   "source": []
  },
  {
   "cell_type": "code",
   "execution_count": null,
   "metadata": {},
   "outputs": [],
   "source": [
    "#Agar berilgan  juft uzunllikka ega bo'lgan so'zning bosh xarfi 'a' yoki 'A' bo'sa bosh xarf agar z yoki Z bo'lsa oxirgi xarf aks xolda xatolik deb ekranga chiqaring\n"
   ]
  },
  {
   "cell_type": "code",
   "execution_count": 38,
   "metadata": {},
   "outputs": [
    {
     "name": "stdout",
     "output_type": "stream",
     "text": [
      "bosh yoki  oxir\n"
     ]
    }
   ],
   "source": [
    "s=str(input('textni kiriting:'))\n",
    "if len(s)%2==0:\n",
    "    if (s[0]=='a' or s[0]=='A') and (s[-1]=='z' or s[-1]=='Z'):\n",
    "        print('bosh yoki  oxir')\n",
    "    elif s[0]=='a' or s[0]=='A':\n",
    "        print('bosh xarf')\n",
    "    elif s[-1]=='z' or s[-1]=='Z':\n",
    "        print('oxirgi xarf')\n",
    "    \n",
    "    else:\n",
    "        print('xatolik')\n",
    "else:\n",
    "    print('xatolikni kattasi')"
   ]
  },
  {
   "cell_type": "code",
   "execution_count": null,
   "metadata": {},
   "outputs": [
    {
     "name": "stdout",
     "output_type": "stream",
     "text": [
      "oxirgi xarf\n"
     ]
    }
   ],
   "source": [
    "x=str(input('Tekstni kiriting:'))\n",
    "if len(x)%2==0:\n",
    "    if (x[0]=='a' or x[0]=='A') and (x[-1]=='z' or x[-1]=='Z'):\n",
    "        print('Bosh va oxirgi xarf')\n",
    "    elif x[0]=='a' or x[0]=='A':\n",
    "        print('Bosh xarf')\n",
    "    elif x[-1]=='z' or x[-1]=='Z':\n",
    "        print('oxirgi xarf')\n",
    "    else:\n",
    "        print('xatolik')\n",
    "else:\n",
    "    print('katta xato')"
   ]
  },
  {
   "cell_type": "code",
   "execution_count": null,
   "metadata": {},
   "outputs": [
    {
     "name": "stdout",
     "output_type": "stream",
     "text": [
      "no\n"
     ]
    }
   ],
   "source": [
    "n=int(input('sonni kiriting:'))\n",
    "if n>0:\n",
    "    if n%10==0:\n",
    "        print('10 ga bolinadigan son')\n",
    "    elif n%5==0:\n",
    "        print('5 ga bolinadigan son')\n",
    "    else:\n",
    "        print('xatolik')\n",
    "else:\n",
    "    print('no')"
   ]
  },
  {
   "cell_type": "code",
   "execution_count": null,
   "metadata": {},
   "outputs": [
    {
     "name": "stdout",
     "output_type": "stream",
     "text": [
      "10 ga bolinadigan son\n"
     ]
    }
   ],
   "source": [
    "n=int(input('sonni kiriting:'))\n",
    "if n>0:\n",
    "    if str(n)[-1]=='0':\n",
    "            print('10 ga bolinadigan son')\n",
    "\n",
    "    elif str(n)[-1]=='5':\n",
    "        print('5 ga bolinadigan son')\n",
    "    else:\n",
    "        print('xatolik')\n",
    "else:\n",
    "    print('no')"
   ]
  },
  {
   "cell_type": "markdown",
   "metadata": {},
   "source": [
    "# Vazifalar"
   ]
  },
  {
   "cell_type": "code",
   "execution_count": null,
   "metadata": {},
   "outputs": [],
   "source": [
    "# Sonni berilgan darajaga ko'taring(turli xil usullar bn)\n",
    "#Berilgan sonni ildizini toping\n",
    "# 2 ta int berilganda True qaytaring agar ular bir xil oxirgi raqamga ega bo'lsa\n",
    "# Berilgan 3 xonali sonning raqamlar yigindisini aniqlang\n",
    "# Berilgan  2 ta xarfan uzun bo'lgan so'zni dastlabki 2 ta xarfidan tashkil topgan soz tuzing agar 2 tadan kam bolsa $ belgisini ishlatiling agar so'z faqat ''  dan iborat bolsa 2 ta $ ni qaytaring\n",
    "#a,b,c  musbat tomonli uchburchak teng tomonli bo'ladi/togri burchakli/ teng yonli\n",
    "# a va b  musbat sonning faqat bittasi/ikkalasi toq son\n",
    "# a va b  musbat sonlarning ikkalasi xam toq xam musbat\n",
    "#Berilgan  musbat sonni oxirgi raqami 0 bilan tugasa '10 ga bo'linadigan son  5 bn tugasa  '5 ga bo'linadigan bo'lsa ' aks xolda 'qaytadan son kiriting deagn yozuvni ekranga chiqaring(2 ta usulda koring)\n",
    "#Agar berilgan  juft uzunllikka ega bo'lgan so'zning bosh xarfi 'a' yoki 'A' bo'sa bosh xarf agar z yoki Z bo'lsa oxirgi xarf aks xolda xatolik deb ekranga chiqaring\n",
    "\n",
    "\n"
   ]
  },
  {
   "cell_type": "code",
   "execution_count": 3,
   "metadata": {},
   "outputs": [
    {
     "name": "stdout",
     "output_type": "stream",
     "text": [
      "2.3ning 4-darajasi 27.98409999999999ga teng\n"
     ]
    }
   ],
   "source": [
    "# Sonni berilgan darajaga ko'taring(turli xil usullar bn)\n",
    "a=float(input('Sonni kiriting:'))\n",
    "b=int(input('Darajani kiriting:'))\n",
    "\n",
    "result=a**b\n",
    "\n",
    "print(f'{a}ning {b}-darajasi {result}ga teng')"
   ]
  },
  {
   "cell_type": "code",
   "execution_count": 4,
   "metadata": {},
   "outputs": [
    {
     "name": "stdout",
     "output_type": "stream",
     "text": [
      "2.0ning 4-darajasi 16.0ga teng\n"
     ]
    }
   ],
   "source": [
    "#2usul\n",
    "# Sonni berilgan darajaga ko'taring(turli xil usullar bn)\n",
    "\n",
    "a=float(input('Sonni kiriting:'))\n",
    "b=int(input('Darajani kiriting:'))\n",
    "\n",
    "result=pow(a, b)\n",
    "\n",
    "print(f'{a}ning {b}-darajasi {result}ga teng')"
   ]
  },
  {
   "cell_type": "code",
   "execution_count": null,
   "metadata": {},
   "outputs": [
    {
     "name": "stdout",
     "output_type": "stream",
     "text": [
      "3.0 sonining ildizi 1.7320508075688772ga teng\n"
     ]
    }
   ],
   "source": [
    "#Berilgan sonni ildizini toping\n",
    "\n",
    "x=float(input('Sonni kiriting:'))\n",
    "\n",
    "result = x**0.5\n",
    "\n",
    "print(f'{x} sonining ildizi {result}ga teng')"
   ]
  },
  {
   "cell_type": "code",
   "execution_count": null,
   "metadata": {},
   "outputs": [],
   "source": [
    "# Berilgan sonning ildizini toping\n",
    "\n",
    "\n",
    "x=float(input('Sonni kiriting:'))\n",
    "\n",
    "result = x**0.5\n",
    "\n",
    "print(f'{x} sonining ildizi {result}ga teng')"
   ]
  },
  {
   "cell_type": "code",
   "execution_count": 7,
   "metadata": {},
   "outputs": [
    {
     "name": "stdout",
     "output_type": "stream",
     "text": [
      "True\n"
     ]
    }
   ],
   "source": [
    "# 2 ta int berilganda True qaytaring. Agar ular bir xil oxirgi raqamga ega bo'lsa\n",
    "\n",
    "a=int(input('Birinchi sonni kiriting:'))\n",
    "b=int(input('Ikkinchi sonni kiriting:'))\n",
    "\n",
    "if a%10==b%10:\n",
    "    print('True')\n",
    "else:\n",
    "    print('False')"
   ]
  },
  {
   "cell_type": "code",
   "execution_count": 11,
   "metadata": {},
   "outputs": [
    {
     "name": "stdout",
     "output_type": "stream",
     "text": [
      "345 sonining raqamlar yig'indisi: 12\n"
     ]
    }
   ],
   "source": [
    "# Berilgan 3 xonali sonning raqamlar yigindisini aniqlang\n",
    " \n",
    "x=int(input('Uch xonali sonni kiriting'))\n",
    "\n",
    "if 100<=x<=999:\n",
    "    yigindi=x//100+(x//10%10)+x%10\n",
    "    print(f\"{x} sonining raqamlar yig'indisi: {yigindi}\")\n",
    "else:\n",
    "    print(\"Son uch xonali emas\")"
   ]
  },
  {
   "cell_type": "code",
   "execution_count": 23,
   "metadata": {},
   "outputs": [
    {
     "name": "stdout",
     "output_type": "stream",
     "text": [
      "$\n"
     ]
    }
   ],
   "source": [
    "# Berilgan  ikkita va undan ko'p xarfdan iborat so'z kiriting. So'zning dastlabki ikkita xarfidan tashkil topgan so'z tuzing. Agar xarflar soni ikkitadan kam bolsa '$' belgisini ishlating. Agar so'z faqat ''dan iborat bolsa ikkita '$' ni chiqaring.\n",
    "\n",
    "x=str(input(\"Ikki va undan ko'p xarf bo'lgan so'zni kiriting:\"))\n",
    "if len(x)==0:\n",
    "    print('$$')\n",
    "elif len(x)<2:\n",
    "    print('$')\n",
    "else:\n",
    "    print(x[:2])"
   ]
  },
  {
   "cell_type": "code",
   "execution_count": 30,
   "metadata": {},
   "outputs": [
    {
     "name": "stdout",
     "output_type": "stream",
     "text": [
      "Teng yonli uchburchak\n"
     ]
    }
   ],
   "source": [
    "#a,b,c  musbat tomonli uchburchak teng tomonli bo'ladi/togri burchakli/ teng yonli\n",
    "\n",
    "a=int(input(\"a tomonini kiriting:\"))\n",
    "b=int(input(\"b tomonini kiriting:\"))\n",
    "c=int(input(\"c tomonini kiriting:\"))\n",
    "if a>0 and b>0 and c>0 and (a+b>c) and (a+c>b) and (b+c>a):\n",
    "    if a==b==c:\n",
    "        print(\"Teng tomonli uchburchak\")\n",
    "    elif a==b or b==c or a==c:\n",
    "        print(\"Teng yonli uchburchak\")\n",
    "    elif pow(a, 2)+pow(b, 2)==pow(c, 2) or \\\n",
    "         pow(a, 2)+pow(c, 2)==pow(b, 2) or \\\n",
    "         pow(b, 2)+pow(c, 2)==pow(a, 2):\n",
    "         print(\"To'g'ri burchakli uchburchak\")\n",
    "    else:\n",
    "        print(\"Oddiy uchburchak\")\n",
    "else:\n",
    "    print(\"Bunday uchburchak mavjud emas\")"
   ]
  },
  {
   "cell_type": "code",
   "execution_count": 33,
   "metadata": {},
   "outputs": [
    {
     "name": "stdout",
     "output_type": "stream",
     "text": [
      "Faqat bitta son toq\n"
     ]
    }
   ],
   "source": [
    "# a va b  musbat sonning faqat bittasi/ikkalasi toq son\n",
    "\n",
    "a=int(input(\"a musbat sonni kiriting:\"))\n",
    "b=int(input(\"b musbat sonni kiriting:\"))\n",
    "\n",
    "if a%2!=0 and b%2!=0:\n",
    "    print(\"Ikkala son toq\")\n",
    "elif a%2!=0 or b%2!=0:\n",
    "    print(\"Faqat bitta son toq\")\n",
    "else:\n",
    "    print(\"Hech qaysi son toq emas\")"
   ]
  },
  {
   "cell_type": "code",
   "execution_count": null,
   "metadata": {},
   "outputs": [],
   "source": [
    "# a va b  musbat sonlarning ikkalasi ham toq ham musbat\n",
    "\n",
    "a=int(input(\"a musbat sonni kiriting:\"))\n",
    "b=int(input(\"b musbat sonni kiriting:\"))\n",
    "\n",
    "if a>0 and>0 and a%2!=0 and b%2!=0:\n",
    "    print(\"Ikkala son ham musbat ham toq\")\n",
    "else:\n",
    "    print(\"Ikkal son musbat yoki toq emas\")"
   ]
  },
  {
   "cell_type": "code",
   "execution_count": 40,
   "metadata": {},
   "outputs": [
    {
     "name": "stdout",
     "output_type": "stream",
     "text": [
      "Qaytadan son kiriting!\n"
     ]
    }
   ],
   "source": [
    "#Berilgan  musbat sonni oxirgi raqami 0 bilan tugasa '10 ga bo'linadigan son  5 bn tugasa  '5 ga bo'linadigan bo'lsa ' aks xolda 'qaytadan son kiriting deagn yozuvni ekranga chiqaring(2 ta usulda koring)\n",
    "\n",
    "x=int(input(\"Musbat sonni kiriting:\"))\n",
    "\n",
    "if x%10==0:\n",
    "    print(\"10ga bo'linadigan son\")\n",
    "elif x%10==5:\n",
    "    print(\"5ga bo'linadigan son\")\n",
    "else:\n",
    "    print(\"Qaytadan son kiriting!\")"
   ]
  },
  {
   "cell_type": "code",
   "execution_count": 49,
   "metadata": {},
   "outputs": [
    {
     "name": "stdout",
     "output_type": "stream",
     "text": [
      "10ga bo'linadigan son\n"
     ]
    }
   ],
   "source": [
    "#Berilgan  musbat sonni oxirgi raqami 0 bilan tugasa '10 ga bo'linadigan son  5 bn tugasa  '5 ga bo'linadigan bo'lsa ' aks xolda 'qaytadan son kiriting deagn yozuvni ekranga chiqaring(2 ta usulda koring)\n",
    "\n",
    "y=str(input(\"Musbat sonni kiriting:\"))\n",
    "\n",
    "if y[-1]==\"0\":\n",
    "    print(\"10ga bo'linadigan son\")\n",
    "elif y[-1]==\"5\":\n",
    "    print(\"5ga bo'linadigan son\")\n",
    "else:\n",
    "    print(\"Qaytadan son kiriting!\")"
   ]
  },
  {
   "cell_type": "code",
   "execution_count": 58,
   "metadata": {},
   "outputs": [
    {
     "name": "stdout",
     "output_type": "stream",
     "text": [
      "Oxirgi xarfi: z\n"
     ]
    }
   ],
   "source": [
    "#Agar berilgan juft uzunllikka ega bo'lgan so'zning bosh xarfi 'a' yoki 'A' bo'sa bosh xarf agar z yoki Z bo'lsa oxirgi xarf aks xolda xatolik deb ekranga chiqaring\n",
    "\n",
    "x=str(input(\"So'zni kiriting:\"))\n",
    "\n",
    "if len(x)%2==0:\n",
    "    if x[0].lower()==\"a\":\n",
    "        print(f\"Bosh xarfi: {x[0]}\")\n",
    "    elif x[-1].lower()==\"z\":\n",
    "        print(f\"Oxirgi xarfi: {x[-1]}\")\n",
    "    else:\n",
    "        print(\"Xatolik: So'zning bosh yoki oxirgi xarfi talabga javob bermaydi\")\n",
    "else:\n",
    "    print(\"Xatolik: So'z uzunligi juft emas\")"
   ]
  }
 ],
 "metadata": {
  "kernelspec": {
   "display_name": "Python 3",
   "language": "python",
   "name": "python3"
  },
  "language_info": {
   "codemirror_mode": {
    "name": "ipython",
    "version": 3
   },
   "file_extension": ".py",
   "mimetype": "text/x-python",
   "name": "python",
   "nbconvert_exporter": "python",
   "pygments_lexer": "ipython3",
   "version": "3.9.6"
  }
 },
 "nbformat": 4,
 "nbformat_minor": 2
}
