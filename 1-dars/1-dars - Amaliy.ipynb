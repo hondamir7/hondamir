{
 "cells": [
  {
   "cell_type": "markdown",
   "metadata": {},
   "source": [
    "#Birinchi dars"
   ]
  },
  {
   "cell_type": "code",
   "execution_count": 1,
   "metadata": {},
   "outputs": [],
   "source": [
    "#Birinchi Python kod"
   ]
  },
  {
   "cell_type": "code",
   "execution_count": 5,
   "metadata": {},
   "outputs": [
    {
     "name": "stdout",
     "output_type": "stream",
     "text": [
      "Python\n"
     ]
    }
   ],
   "source": [
    "print('Python')"
   ]
  },
  {
   "cell_type": "code",
   "execution_count": 2,
   "metadata": {},
   "outputs": [
    {
     "name": "stdout",
     "output_type": "stream",
     "text": [
      "6\n",
      "-2\n",
      "8\n",
      "0.5\n",
      "16\n"
     ]
    }
   ],
   "source": [
    "x=2\n",
    "y=4\n",
    "print(x+y)\n",
    "print(x-y)\n",
    "print(x*y)\n",
    "print(x/y)\n",
    "print(x**y)"
   ]
  },
  {
   "cell_type": "code",
   "execution_count": 3,
   "metadata": {},
   "outputs": [
    {
     "name": "stdout",
     "output_type": "stream",
     "text": [
      "yigindisi: 6\n",
      "ayirmasi: -2\n",
      "kopaytmasi: 8\n",
      "bolinmasi: 0.5\n",
      "darajasi: 16\n"
     ]
    }
   ],
   "source": [
    "print('yigindisi:', x+y)\n",
    "print('ayirmasi:', x-y)\n",
    "print('kopaytmasi:', x*y)\n",
    "print('bolinmasi:', x/y)\n",
    "print('darajasi:', x**y)"
   ]
  },
  {
   "cell_type": "code",
   "execution_count": 3,
   "metadata": {},
   "outputs": [
    {
     "name": "stdout",
     "output_type": "stream",
     "text": [
      "HONDAMIR\n"
     ]
    }
   ],
   "source": [
    "x='Hondamir'\n",
    "x=x.upper()\n",
    "print(x)"
   ]
  },
  {
   "cell_type": "code",
   "execution_count": 4,
   "metadata": {},
   "outputs": [
    {
     "name": "stdout",
     "output_type": "stream",
     "text": [
      "hondamir\n"
     ]
    }
   ],
   "source": [
    "x='Hondamir'\n",
    "x=x.lower()\n",
    "print(x)"
   ]
  },
  {
   "cell_type": "code",
   "execution_count": 5,
   "metadata": {},
   "outputs": [
    {
     "name": "stdout",
     "output_type": "stream",
     "text": [
      "Hondamir\n"
     ]
    }
   ],
   "source": [
    "x='Hondamir'\n",
    "x=x.title()\n",
    "print(x)"
   ]
  },
  {
   "cell_type": "code",
   "execution_count": 12,
   "metadata": {},
   "outputs": [
    {
     "name": "stdout",
     "output_type": "stream",
     "text": [
      "HONDAMIR\n"
     ]
    }
   ],
   "source": [
    "x='Hondamir'\n",
    "x=x[0:].upper()\n",
    "print(x)"
   ]
  },
  {
   "cell_type": "code",
   "execution_count": 1,
   "metadata": {},
   "outputs": [
    {
     "name": "stdout",
     "output_type": "stream",
     "text": [
      "HondamiR\n"
     ]
    }
   ],
   "source": [
    "def capitalize_first_last(s):\n",
    "    if len(s) == 1:\n",
    "        return s.upper()\n",
    "    return s[0].upper() + s[1:-1].lower() + s[-1].upper()\n",
    "\n",
    "word = \"hondamir\"\n",
    "result = capitalize_first_last(word)\n",
    "print(result)\n"
   ]
  },
  {
   "cell_type": "code",
   "execution_count": 5,
   "metadata": {},
   "outputs": [
    {
     "name": "stdout",
     "output_type": "stream",
     "text": [
      "Birlar xonasidagi raqam: 6\n",
      "O'nlar xonasidagi raqam: 5\n"
     ]
    }
   ],
   "source": [
    "#Berilgan 2 xonali sonni birlar xonasidagi/10 lar xonasidagi raqamni toping\n",
    "\n",
    "a=int(input(\"Ikki xonali sonni kiriting:\"))\n",
    "print('Birlar xonasidagi raqam:', a%10)\n",
    "print(\"O'nlar xonasidagi raqam:\",a//10)"
   ]
  },
  {
   "cell_type": "code",
   "execution_count": 6,
   "metadata": {},
   "outputs": [
    {
     "name": "stdout",
     "output_type": "stream",
     "text": [
      "Raqamlari almashtirilgan son: 56\n"
     ]
    }
   ],
   "source": [
    "#Berilgan 2 xonali sonni raqamlari o'rnini almashtirishdan xosil bo'lgan sonni toping(12,21)\n",
    "\n",
    "b=int(input(\"Ikki xonali sonni kiriting:\"))\n",
    "print(\"Raqamlari almashtirilgan son:\", b%10*10+b//10)"
   ]
  },
  {
   "cell_type": "code",
   "execution_count": 9,
   "metadata": {},
   "outputs": [
    {
     "data": {
      "text/plain": [
       "True"
      ]
     },
     "execution_count": 9,
     "metadata": {},
     "output_type": "execute_result"
    }
   ],
   "source": [
    "#Berilgan butun son - musbat toq son\n",
    "\n",
    "c=int(input(\"Musbat butun son kiriting:\"))\n",
    "c>0 and c%2!=0"
   ]
  },
  {
   "cell_type": "code",
   "execution_count": 11,
   "metadata": {},
   "outputs": [
    {
     "name": "stdout",
     "output_type": "stream",
     "text": [
      "S\n"
     ]
    }
   ],
   "source": [
    "#Berilgan so'zni birinchi xarfini toping\n",
    "\n",
    "d=input(\"So'zni kiriting:\")\n",
    "print(d[0].upper())"
   ]
  },
  {
   "cell_type": "code",
   "execution_count": 13,
   "metadata": {},
   "outputs": [
    {
     "name": "stdout",
     "output_type": "stream",
     "text": [
      "ewf fgd\n"
     ]
    }
   ],
   "source": [
    "#Ikki so'zdan gap xosil qiling\n",
    "\n",
    "e=input(\"Birinchi so'zni kiriting:\")\n",
    "f=input(\"Ikkinchi so'zni kiriting:\")\n",
    "\n",
    "print(e+' '+f)"
   ]
  },
  {
   "cell_type": "code",
   "execution_count": 15,
   "metadata": {},
   "outputs": [
    {
     "data": {
      "text/plain": [
       "True"
      ]
     },
     "execution_count": 15,
     "metadata": {},
     "output_type": "execute_result"
    }
   ],
   "source": [
    "#Agar berilgan so'z unli xarflaridan tashkil topganligini tekshiring(a,e,i,u,o)\n",
    "\n",
    "g=input(\"So'zni kiriting:\")\n",
    "('a' and 'e' and 'i' and 'u' and 'o') in g"
   ]
  },
  {
   "cell_type": "code",
   "execution_count": 18,
   "metadata": {},
   "outputs": [
    {
     "name": "stdout",
     "output_type": "stream",
     "text": [
      "Odatiy xolatda yozilgan\n"
     ]
    }
   ],
   "source": [
    "#Berilgan so'zni katta/kichik/odatiy xolatlarga keltiring\n",
    "\n",
    "h=input(\"So'zni kiriting:\")\n",
    "if h.islower():\n",
    "    print(\"Kichik harflar bilan yozilgan\")\n",
    "elif h.isupper():\n",
    "    print(\"Katta harflar bilan yozilgan\")\n",
    "else:\n",
    "    print(\"Odatiy xolatda yozilgan\")"
   ]
  },
  {
   "cell_type": "code",
   "execution_count": 19,
   "metadata": {},
   "outputs": [
    {
     "name": "stdout",
     "output_type": "stream",
     "text": [
      "Darsga ruxsat berildi\n"
     ]
    }
   ],
   "source": [
    "#Uch va undan yuqori ball to'plagan talabalar keyingi darslarga o'tishga ruxsat berilsin\n",
    "\n",
    "k=int(input(\"Talaba ballini kiriting:\"))\n",
    "if k>=3:\n",
    "    print(\"Darsga ruxsat berildi\")\n",
    "else:\n",
    "    print(\"Darsga ruxsat berilmadi\")"
   ]
  },
  {
   "cell_type": "code",
   "execution_count": 32,
   "metadata": {},
   "outputs": [
    {
     "name": "stdout",
     "output_type": "stream",
     "text": [
      "Toq son\n"
     ]
    }
   ],
   "source": [
    "#Berilgan butun sonni toq yoki juft ekanligini aniqlang\n",
    "\n",
    "l=int(input(\"Butun son kiriting:\"))\n",
    "if l%2==0:\n",
    "     print(\"Juft son\")\n",
    "else:\n",
    "     print(\"Toq son\")"
   ]
  },
  {
   "cell_type": "code",
   "execution_count": 35,
   "metadata": {},
   "outputs": [
    {
     "name": "stdout",
     "output_type": "stream",
     "text": [
      "Nol son\n"
     ]
    }
   ],
   "source": [
    "#Berilgan butun sonni musbat yoki manfiy ekanligini aniqlang\n",
    "\n",
    "m=int(input(\"Butun son kiriting:\"))\n",
    "if m>0:\n",
    "    print(\"Musbat son\")\n",
    "elif  m<0:\n",
    "    print(\"Manfiy son\")\n",
    "else:\n",
    "    print(\"Nol son\")"
   ]
  },
  {
   "cell_type": "code",
   "execution_count": 43,
   "metadata": {},
   "outputs": [
    {
     "name": "stdout",
     "output_type": "stream",
     "text": [
      "Bu son boshqa holatda\n"
     ]
    }
   ],
   "source": [
    "#Berilgan butun sonni musbat juft/ manfiy toq ekanligini aniqlang\n",
    "\n",
    "n=int(input(\"Butun son kiriting:\"))\n",
    "if n>0 and n%2==0:\n",
    "     print(\"Musbat juft son\")\n",
    "elif n<0 and n%2!=0:\n",
    "     print(\"Manfiy toq son\")\n",
    "else:\n",
    "     print(\"Bu son boshqa holatda\")\n"
   ]
  },
  {
   "cell_type": "code",
   "execution_count": 50,
   "metadata": {},
   "outputs": [
    {
     "name": "stdout",
     "output_type": "stream",
     "text": [
      "Musbat toq: False\n",
      "Manfiy juft: False\n"
     ]
    }
   ],
   "source": [
    "#Berilgan sonni musbat toq/ manfiy juft ekanligi aniqlang va uni Booleanda tekshiring\n",
    "\n",
    "l = input(\"Son kiriting: \")\n",
    "\n",
    "if l.lstrip('-').isdigit():\n",
    "    l = int(l)\n",
    "    is_positive_odd = l > 0 and l % 2 != 0\n",
    "    is_negative_even = l < 0 and l % 2 == 0\n",
    "    \n",
    "    print(\"Musbat toq:\", is_positive_odd)\n",
    "    print(\"Manfiy juft:\", is_negative_even)\n",
    "else:\n",
    "    print(\"Xatolik: Butun son kiriting!\")\n"
   ]
  },
  {
   "cell_type": "code",
   "execution_count": 52,
   "metadata": {},
   "outputs": [
    {
     "name": "stdout",
     "output_type": "stream",
     "text": [
      "Raqamlar yig'indisi: 5\n"
     ]
    }
   ],
   "source": [
    "#Berilgan ikki xonali sonni raqamlarini yig'indisini toping\n",
    "\n",
    "o=int(input(\"Ikki xonali son kiriting:\"))\n",
    "print(\"Raqamlar yig'indisi:\", o//10+o%10)\n"
   ]
  },
  {
   "cell_type": "code",
   "execution_count": 53,
   "metadata": {},
   "outputs": [
    {
     "name": "stdout",
     "output_type": "stream",
     "text": [
      "Raqamlar yig'indisi: 12\n"
     ]
    }
   ],
   "source": [
    "#Berilgan 3 xonali sonni raqamlar yig'indisini toping \n",
    "\n",
    "p=int(input(\"Uch xonali son kiriting:\"))\n",
    "print(\"Raqamlar yig'indisi:\", p//100+p%100//10+p%10)"
   ]
  },
  {
   "cell_type": "code",
   "execution_count": 55,
   "metadata": {},
   "outputs": [
    {
     "name": "stdout",
     "output_type": "stream",
     "text": [
      "Teskari tartibda: 553\n"
     ]
    }
   ],
   "source": [
    "#Berilgan 3 xonali sonni teskari tartibda yozilganini toping(Masalan:123->321)\n",
    "\n",
    "q=int(input(\"Uch xonali son kiriting:\"))\n",
    "print(\"Teskari tartibda:\", q%10*100+q%100//10*10+q//100)"
   ]
  },
  {
   "cell_type": "code",
   "execution_count": 56,
   "metadata": {},
   "outputs": [
    {
     "name": "stdout",
     "output_type": "stream",
     "text": [
      "Juft so'zli\n"
     ]
    }
   ],
   "source": [
    "#Berilgan sozdagi xarflar soni juft bolsa juft so'zli deb aks xolda toq so'zli deb umuman xarflardan iborat bolmasa xatolik bor deb ekranga chiqaring\n",
    "\n",
    "r=input(\"So'zni kiriting:\")\n",
    "if len(r)%2==0:\n",
    "    print(\"Juft so'zli\")\n",
    "elif len(r)%2!=0:\n",
    "    print(\"Toq so'zli\")\n",
    "else:\n",
    "    print(\"Xatolik\")"
   ]
  },
  {
   "cell_type": "code",
   "execution_count": 57,
   "metadata": {},
   "outputs": [
    {
     "name": "stdout",
     "output_type": "stream",
     "text": [
      "Son 10 va 50 oraligida\n"
     ]
    }
   ],
   "source": [
    "#Berilgan sonni 10 va 50 oraligida ekanligini tekshiring\n",
    "\n",
    "s=int(input(\"Son kiriting:\"))\n",
    "if 10<s<50:\n",
    "    print(\"Son 10 va 50 oraligida\")\n",
    "else:\n",
    "    print(\"Son 10 va 50 oraligida emas\")"
   ]
  },
  {
   "cell_type": "code",
   "execution_count": 59,
   "metadata": {},
   "outputs": [
    {
     "name": "stdout",
     "output_type": "stream",
     "text": [
      "Kuchli parol\n"
     ]
    }
   ],
   "source": [
    "#Agar parol 8 tadan kam belgi/sonlardan iborat bolsa kuchsiz aks xolda kuchli parol deb ekranga chiqaring\n",
    "\n",
    "t=input(\"Parolni kiriting:\")\n",
    "if len(t)<8:\n",
    "    print(\"Kuchsiz parol\")\n",
    "else:\n",
    "    print(\"Kuchli parol\")"
   ]
  },
  {
   "cell_type": "code",
   "execution_count": 61,
   "metadata": {},
   "outputs": [
    {
     "name": "stdout",
     "output_type": "stream",
     "text": [
      "Eng katta son: 523\n"
     ]
    }
   ],
   "source": [
    "#Berilgan 3 ta sondan eng kattasini/kichigini/o'rtachasini aniqlaydigan kod yozing\n",
    "\n",
    "u=int(input(\"1-sonni kiriting:\"))\n",
    "v=int(input(\"2-sonni kiriting:\"))\n",
    "w=int(input(\"3-sonni kiriting:\"))\n",
    "if u>v and u>w:\n",
    "    print(\"Eng katta son:\", u)\n",
    "elif v>u and v>w:\n",
    "    print(\"Eng katta son:\", v)\n",
    "else:\n",
    "    print(\"Eng katta son:\", w)"
   ]
  },
  {
   "cell_type": "code",
   "execution_count": 67,
   "metadata": {},
   "outputs": [
    {
     "name": "stdout",
     "output_type": "stream",
     "text": [
      "Parol xato\n"
     ]
    }
   ],
   "source": [
    "#Parol yarating va kod yozing agar kod to'gri bolsa xush kelibsiz aks xolda parol xato deb ekranga chiqaring\n",
    "\n",
    "x=int(input(\"Parolni kiriting:\"))\n",
    "if x==7777:\n",
    "    print(\"Xush kelibsiz\")\n",
    "else:\n",
    "    print(\"Parol xato\")"
   ]
  }
 ],
 "metadata": {
  "kernelspec": {
   "display_name": "Python 3",
   "language": "python",
   "name": "python3"
  },
  "language_info": {
   "codemirror_mode": {
    "name": "ipython",
    "version": 3
   },
   "file_extension": ".py",
   "mimetype": "text/x-python",
   "name": "python",
   "nbconvert_exporter": "python",
   "pygments_lexer": "ipython3",
   "version": "3.9.6"
  }
 },
 "nbformat": 4,
 "nbformat_minor": 2
}
