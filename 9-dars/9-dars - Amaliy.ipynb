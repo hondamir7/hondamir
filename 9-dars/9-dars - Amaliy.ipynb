{
 "cells": [
  {
   "cell_type": "markdown",
   "metadata": {},
   "source": [
    "TERNARY CONDITIONAL OPERATIONS"
   ]
  },
  {
   "cell_type": "code",
   "execution_count": 1,
   "metadata": {},
   "outputs": [
    {
     "name": "stdout",
     "output_type": "stream",
     "text": [
      "a soni musbat\n"
     ]
    }
   ],
   "source": [
    "a=1\n",
    "if a>0:\n",
    "    print('a soni musbat')\n",
    "elif a<0:\n",
    "    print('a soni manfiy')\n",
    "else:\n",
    "    print('a soni nolga teng')"
   ]
  },
  {
   "cell_type": "code",
   "execution_count": 6,
   "metadata": {},
   "outputs": [
    {
     "data": {
      "text/plain": [
       "'a soni musbat'"
      ]
     },
     "execution_count": 6,
     "metadata": {},
     "output_type": "execute_result"
    }
   ],
   "source": [
    "#Ternary Operators\n",
    "\n",
    "'a soni musbat' if a>0 else 'a soni manfiy' if a<0 else 'a soni nolga teng'"
   ]
  },
  {
   "cell_type": "markdown",
   "metadata": {},
   "source": [
    "VAZIFA"
   ]
  },
  {
   "cell_type": "code",
   "execution_count": 2,
   "metadata": {},
   "outputs": [
    {
     "name": "stdout",
     "output_type": "stream",
     "text": [
      "True\n"
     ]
    }
   ],
   "source": [
    "# 2 ta int berilganda True qaytaring. Agar ular bir xil oxirgi raqamga ega bo'lsa\n",
    "\n",
    "a = int(input('Birinchi sonni kiriting: '))\n",
    "b = int(input('Ikkinchi sonni kiriting: '))\n",
    "\n",
    "print('True' if a % 10 == b % 10 else 'False')"
   ]
  },
  {
   "cell_type": "code",
   "execution_count": 3,
   "metadata": {},
   "outputs": [
    {
     "name": "stdout",
     "output_type": "stream",
     "text": [
      "345 sonining raqamlar yig'indisi: 12\n"
     ]
    }
   ],
   "source": [
    "# Berilgan 3 xonali sonning raqamlar yigindisini aniqlang\n",
    "\n",
    "x = int(input('Uch xonali sonni kiriting: '))\n",
    "\n",
    "print(f\"{x} sonining raqamlar yig'indisi: {x//100 + (x//10%10) + x%10}\" if 100 <= x <= 999 else \"Son uch xonali emas\")"
   ]
  },
  {
   "cell_type": "code",
   "execution_count": 1,
   "metadata": {},
   "outputs": [
    {
     "name": "stdout",
     "output_type": "stream",
     "text": [
      "ро\n"
     ]
    }
   ],
   "source": [
    "# Berilgan  ikkita va undan ko'p xarfdan iborat so'z kiriting. So'zning dastlabki ikkita xarfidan tashkil topgan so'z tuzing. Agar xarflar soni ikkitadan kam bolsa '$' belgisini ishlating. Agar so'z faqat ''dan iborat bolsa ikkita '$' ni chiqaring.\n",
    "\n",
    "x = input(\"Ikki va undan ko'p xarf bo'lgan so'zni kiriting:\")\n",
    "print('$$' if len(x) == 0 else '$' if len(x) < 2 else x[:2])"
   ]
  },
  {
   "cell_type": "code",
   "execution_count": 4,
   "metadata": {},
   "outputs": [
    {
     "name": "stdout",
     "output_type": "stream",
     "text": [
      "Hech qaysi son toq emas\n"
     ]
    }
   ],
   "source": [
    "# a va b  musbat sonning faqat bittasi/ikkalasi toq son\n",
    "\n",
    "x = int(input(\"x musbat sonini kiriting: \"))\n",
    "y = int(input(\"y musbat sonini kiriting: \"))\n",
    "\n",
    "print(\n",
    "    \"Ikkala son toq\" if x % 2 != 0 and y % 2 != 0 else\n",
    "    \"Faqat bir son toq\" if x % 2 != 0 or y % 2 != 0 else\n",
    "    \"Hech qaysi son toq emas\"\n",
    ") if x > 0 and y > 0 else print(\"Musbat son kiriting!\")"
   ]
  },
  {
   "cell_type": "code",
   "execution_count": 5,
   "metadata": {},
   "outputs": [
    {
     "name": "stdout",
     "output_type": "stream",
     "text": [
      "Ikkala son musbat yoki toq emas\n"
     ]
    }
   ],
   "source": [
    "# a va b  musbat sonlarning ikkalasi ham toq ham musbat\n",
    "\n",
    "a = int(input(\"a musbat sonni kiriting: \"))\n",
    "b = int(input(\"b musbat sonni kiriting: \"))\n",
    "\n",
    "print(\"Ikkala son ham musbat ham toq\" if a > 0 and b > 0 and a % 2 != 0 and b % 2 != 0 else \"Ikkala son musbat yoki toq emas\")"
   ]
  },
  {
   "cell_type": "code",
   "execution_count": 6,
   "metadata": {},
   "outputs": [
    {
     "name": "stdout",
     "output_type": "stream",
     "text": [
      "5ga bo'linadigan son\n"
     ]
    }
   ],
   "source": [
    "#Berilgan  musbat sonni oxirgi raqami 0 bilan tugasa '10 ga bo'linadigan son  5 bn tugasa  '5 ga bo'linadigan bo'lsa ' aks xolda 'qaytadan son kiriting deagn yozuvni ekranga chiqaring(2 ta usulda koring)\n",
    "\n",
    "x = int(input(\"Musbat sonni kiriting: \"))\n",
    "\n",
    "print(\"10ga bo'linadigan son\" if x % 10 == 0 else \"5ga bo'linadigan son\" if x % 10 == 5 else \"Qaytadan son kiriting!\")"
   ]
  },
  {
   "cell_type": "code",
   "execution_count": 9,
   "metadata": {},
   "outputs": [
    {
     "name": "stdout",
     "output_type": "stream",
     "text": [
      "10ga bo'linadigan son\n"
     ]
    }
   ],
   "source": [
    "#Berilgan  musbat sonni oxirgi raqami 0 bilan tugasa '10 ga bo'linadigan son  5 bn tugasa  '5 ga bo'linadigan bo'lsa ' aks xolda 'qaytadan son kiriting deagn yozuvni ekranga chiqaring(2 ta usulda koring)\n",
    "\n",
    "y = input(\"Musbat sonni kiriting: \")\n",
    "\n",
    "print(\"10ga bo'linadigan son\" if y[-1] == \"0\" else \"5ga bo'linadigan son\" if y[-1] == \"5\" else \"Qaytadan son kiriting!\")\n"
   ]
  }
 ],
 "metadata": {
  "kernelspec": {
   "display_name": "Python 3",
   "language": "python",
   "name": "python3"
  },
  "language_info": {
   "codemirror_mode": {
    "name": "ipython",
    "version": 3
   },
   "file_extension": ".py",
   "mimetype": "text/x-python",
   "name": "python",
   "nbconvert_exporter": "python",
   "pygments_lexer": "ipython3",
   "version": "3.9.6"
  }
 },
 "nbformat": 4,
 "nbformat_minor": 2
}
